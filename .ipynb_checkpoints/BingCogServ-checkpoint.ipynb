{
 "cells": [
  {
   "cell_type": "code",
   "execution_count": null,
   "metadata": {},
   "outputs": [],
   "source": [
    "#Importing Libraries all of them are pre install on notebooks, if you use other environemnt you can install like next cell\n",
    "import requests\n",
    "import matplotlib.pyplot as plt\n",
    "from PIL import Image\n",
    "from io import BytesIO\n",
    "import json\n",
    "import os\n"
   ]
  },
  {
   "cell_type": "code",
   "execution_count": null,
   "metadata": {},
   "outputs": [],
   "source": [
    "import sys\n",
    "!{sys.executable} -m pip install azure-cognitiveservices-vision-customvision"
   ]
  },
  {
   "cell_type": "code",
   "execution_count": null,
   "metadata": {},
   "outputs": [],
   "source": [
    "print(\"Starting process\")"
   ]
  },
  {
   "cell_type": "code",
   "execution_count": null,
   "metadata": {},
   "outputs": [],
   "source": [
    "#Variables section\n",
    "\n",
    "#bing variables\n",
    "search_url = \"https://api.cognitive.microsoft.com/bing/v7.0/images/search\"\n",
    "search_term = \"person\"\n",
    "tagname = \"person\" #Bing search term how to find pictures can be synomyns\n",
    "bing_subscription_key = \"xxx\"\n",
    "\n",
    "#Customvision variables\n",
    "training_key = \"2xxx\"\n",
    "ENDPOINT=\"https://southcentralus.api.cognitive.microsoft.com\"\n",
    "project= \"ee9fd341-32ad-499c-a0c7-80924f8a51ba\"\n",
    "\n"
   ]
  },
  {
   "cell_type": "code",
   "execution_count": null,
   "metadata": {},
   "outputs": [],
   "source": [
    "\n",
    "import warnings\n",
    "import contextlib\n",
    "import requests\n",
    "from urllib3.exceptions import InsecureRequestWarning\n",
    "\n",
    "\n",
    "old_merge_environment_settings = requests.Session.merge_environment_settings\n",
    "\n",
    "@contextlib.contextmanager\n",
    "def no_ssl_verification():\n",
    "    opened_adapters = set()\n",
    "\n",
    "    def merge_environment_settings(self, url, proxies, stream, verify, cert):\n",
    "        # Verification happens only once per connection so we need to close\n",
    "        # all the opened adapters once we're done. Otherwise, the effects of\n",
    "        # verify=False persist beyond the end of this context manager.\n",
    "        opened_adapters.add(self.get_adapter(url))\n",
    "\n",
    "        settings = old_merge_environment_settings(self, url, proxies, stream, verify, cert)\n",
    "        settings['verify'] = False\n",
    "\n",
    "        return settings\n",
    "\n",
    "    requests.Session.merge_environment_settings = merge_environment_settings\n",
    "\n",
    "    try:\n",
    "        with warnings.catch_warnings():\n",
    "            warnings.simplefilter('ignore', InsecureRequestWarning)\n",
    "            yield\n",
    "    finally:\n",
    "        requests.Session.merge_environment_settings = old_merge_environment_settings\n",
    "\n",
    "        for adapter in opened_adapters:\n",
    "            try:\n",
    "                adapter.close()\n",
    "            except:\n",
    "                pass"
   ]
  },
  {
   "cell_type": "code",
   "execution_count": null,
   "metadata": {},
   "outputs": [],
   "source": [
    "headers = {\"Ocp-Apim-Subscription-Key\" : bing_subscription_key}\n",
    "params  = {\"q\": search_term, \"license\": \"All\", \"imageType\": \"photo\",\"count\" : \"200\",\"safeSearch\": \"Off\"}\n",
    "#You can change all this parameters according to api documentation to get next 200 or enable the SafeSearch\n",
    "# https://docs.microsoft.com/en-us/rest/api/cognitiveservices/bing-web-api-v7-reference"
   ]
  },
  {
   "cell_type": "code",
   "execution_count": null,
   "metadata": {},
   "outputs": [],
   "source": [
    "with no_ssl_verification():\n",
    "    response = requests.get(search_url, headers=headers, params=params)\n",
    "    response.raise_for_status()\n",
    "    search_results = response.json()"
   ]
  },
  {
   "cell_type": "code",
   "execution_count": null,
   "metadata": {},
   "outputs": [],
   "source": [
    "import os\n",
    "import glob\n",
    "# define the name of the directory to be created\n",
    "path = \"./\" + tagname\n",
    "if os.path.exists(path):\n",
    "    print(\"folder exists removing content\")\n",
    "    for root, dirs, files in os.walk(path):\n",
    "        for f in files:\n",
    "            os.remove(path + '/' + f)\n",
    "try:  \n",
    "    os.mkdir(path)\n",
    "except OSError:  \n",
    "    print (\"Creation of the directory %s failed\" % path)\n",
    "else:  \n",
    "    print (\"Successfully created the directory %s \" % path)"
   ]
  },
  {
   "cell_type": "code",
   "execution_count": null,
   "metadata": {},
   "outputs": [],
   "source": [
    "import urllib.request\n",
    "opener=urllib.request.build_opener()\n",
    "opener.addheaders=[('User-Agent','Mozilla/5.0 (Windows NT 6.1; WOW64) AppleWebKit/537.36 (KHTML, like Gecko) Chrome/36.0.1941.0 Safari/537.36')]\n",
    "urllib.request.install_opener(opener)\n",
    "count=0\n",
    "for contenturl in search_results['value']:\n",
    "    print (contenturl['contentUrl'])\n",
    "    count= count+1\n",
    "    try:\n",
    "        f = open( tagname +'/'+ str(count) + '.jpg','wb')\n",
    "        f.write(urllib.request.urlopen(contenturl['contentUrl']).read())\n",
    "        f.close()\n",
    "    except:\n",
    "        pass\n",
    "    "
   ]
  },
  {
   "cell_type": "code",
   "execution_count": null,
   "metadata": {},
   "outputs": [],
   "source": [
    "from azure.cognitiveservices.vision.customvision.training import CustomVisionTrainingClient\n",
    "from azure.cognitiveservices.vision.customvision.training.models import ImageUrlCreateEntry\n",
    "from azure.cognitiveservices.vision.customvision.training.models import ImageFileCreateEntry\n",
    "\n",
    "\n",
    "trainer = CustomVisionTrainingClient(training_key, endpoint=ENDPOINT)\n",
    "#trainer = training_api.TrainingApi(training_key)\n",
    "\n",
    "# Create a new project\n",
    "def resize(pathimg):\n",
    "  basewidth = 1280\n",
    "  img = Image.open(pathimg)\n",
    "  wpercent = (basewidth/float(img.size[0]))\n",
    "  hsize = int((float(img.size[1])*float(wpercent)))\n",
    "  img2 = img.resize((basewidth,hsize), Image.ANTIALIAS)\n",
    "  rgb_im = img2.convert('RGB')\n",
    "  rgb_im.save(pathimg) \n",
    "  #img.save(pathimg) \n",
    "\n",
    "#print (\"Creating project...\")\n",
    "def checkTag(tagname):\n",
    "    trainer.get_project(project)\n",
    "    for i in trainer.get_tags(project):\n",
    "        if tagname == i.name:\n",
    "            print (i.id)\n",
    "            return i.id\n",
    "    return '0'\n",
    "\n",
    "def createTag(tagname):\n",
    "    trainer.get_project(project)\n",
    "    return trainer.create_tag(project,tagname).id\n",
    "\n",
    "def CreateOrGet(tagname):\n",
    "    if checkTag(tagname) == '0':\n",
    "        return createTag(tagname)\n",
    "    else:\n",
    "        return checkTag(tagname)\n",
    "\n",
    "def uploadimage(picture,tagname):\n",
    "    #with open(os.fsdecode(picture), mode=\"rb\") as img_data: \n",
    "        #v= trainer.create_images_from_data(project, img_data)\n",
    "    my_tag = CreateOrGet(tagname)\n",
    "    print(my_tag)\n",
    "    images_to_upload = []\n",
    "    with open(picture, mode=\"rb\") as image_contents:\n",
    "       images_to_upload.append(ImageFileCreateEntry(name=picture, contents=image_contents.read()))\n",
    "    v = trainer.create_images_from_files(project,images=images_to_upload,tag_ids=[my_tag] )\n",
    "    return v\n",
    "\n",
    "def uploadimagememory(picture,tagname):\n",
    "    my_tag = CreateOrGet(tagname)\n",
    "    v = trainer.create_images_from_data(project,picture,tag_ids=[my_tag])    \n",
    "    return v\n",
    "\n",
    "def runupload(picture,tag,memory=False):\n",
    "    if memory == False:\n",
    "        print (picture)\n",
    "        t = str(uploadimage(picture,tag).is_batch_successful)\n",
    "    else:\n",
    "        t = str(uploadimagememory(picture,tag).is_batch_successful)\n",
    "    return (t)"
   ]
  },
  {
   "cell_type": "code",
   "execution_count": null,
   "metadata": {},
   "outputs": [],
   "source": [
    "import os\n",
    "print(tagname)\n",
    "list1 = os.listdir(\"./\" + tagname)\n",
    "print(list1)\n"
   ]
  },
  {
   "cell_type": "code",
   "execution_count": null,
   "metadata": {},
   "outputs": [],
   "source": [
    "for myfile in list1:\n",
    "    mypath ='./' + tagname + '/'+ myfile\n",
    "    print(mypath)\n",
    "    try:\n",
    "        resize(mypath)\n",
    "        with no_ssl_verification():\n",
    "            print(runupload(mypath,tagname))\n",
    "    except:\n",
    "        print(\"failed\" + path)\n",
    "        pass"
   ]
  },
  {
   "cell_type": "code",
   "execution_count": null,
   "metadata": {},
   "outputs": [],
   "source": []
  }
 ],
 "metadata": {
  "kernelspec": {
   "display_name": "Python 3",
   "language": "python",
   "name": "python3"
  },
  "language_info": {
   "codemirror_mode": {
    "name": "ipython",
    "version": 3
   },
   "file_extension": ".py",
   "mimetype": "text/x-python",
   "name": "python",
   "nbconvert_exporter": "python",
   "pygments_lexer": "ipython3",
   "version": "3.6.5"
  }
 },
 "nbformat": 4,
 "nbformat_minor": 2
}
